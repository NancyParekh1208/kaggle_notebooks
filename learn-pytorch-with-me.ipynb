{
 "cells": [
  {
   "cell_type": "code",
   "execution_count": 1,
   "id": "baa7f09e",
   "metadata": {
    "_cell_guid": "b1076dfc-b9ad-4769-8c92-a6c4dae69d19",
    "_uuid": "8f2839f25d086af736a60e9eeb907d3b93b6e0e5",
    "execution": {
     "iopub.execute_input": "2025-09-14T22:06:56.114638Z",
     "iopub.status.busy": "2025-09-14T22:06:56.114076Z",
     "iopub.status.idle": "2025-09-14T22:06:58.175690Z",
     "shell.execute_reply": "2025-09-14T22:06:58.174981Z"
    },
    "papermill": {
     "duration": 2.06766,
     "end_time": "2025-09-14T22:06:58.177244",
     "exception": false,
     "start_time": "2025-09-14T22:06:56.109584",
     "status": "completed"
    },
    "tags": []
   },
   "outputs": [],
   "source": [
    "# This Python 3 environment comes with many helpful analytics libraries installed\n",
    "# It is defined by the kaggle/python Docker image: https://github.com/kaggle/docker-python\n",
    "# For example, here's several helpful packages to load\n",
    "\n",
    "import numpy as np # linear algebra\n",
    "import pandas as pd # data processing, CSV file I/O (e.g. pd.read_csv)\n",
    "\n",
    "# Input data files are available in the read-only \"../input/\" directory\n",
    "# For example, running this (by clicking run or pressing Shift+Enter) will list all files under the input directory\n",
    "\n",
    "import os\n",
    "for dirname, _, filenames in os.walk('/kaggle/input'):\n",
    "    for filename in filenames:\n",
    "        print(os.path.join(dirname, filename))\n",
    "\n",
    "# You can write up to 20GB to the current directory (/kaggle/working/) that gets preserved as output when you create a version using \"Save & Run All\" \n",
    "# You can also write temporary files to /kaggle/temp/, but they won't be saved outside of the current session"
   ]
  },
  {
   "cell_type": "markdown",
   "id": "19ea9302",
   "metadata": {
    "papermill": {
     "duration": 0.002937,
     "end_time": "2025-09-14T22:06:58.183903",
     "exception": false,
     "start_time": "2025-09-14T22:06:58.180966",
     "status": "completed"
    },
    "tags": []
   },
   "source": [
    "Pytorch is an open source python deep learning library. It's one the most widely used deep learning library for research since 2019. It is popular because of it's user friendly interface and efficiency. It is accessible, flexible and allows adavanced users to tweak lower level aspects of their models for customization and optimization.\n",
    "\n",
    "Core components of PyTorch - \n",
    "\n",
    "1. Tensor Library - PyTorch library implements a tensor array for efficient computing\n",
    "2. Automatic Differentiation Engine - PyTorch includes utilities to differentiate computations automatically.\n",
    "3. Deep learning library. - Deep learning utilities that use of above two\n",
    "\n",
    "So Tensors are the fundamental building blocks for computing, the automatic differentiation engine for model optimization, and deep learning utility functions to implement and train deep neural network models.\n",
    "\n",
    "Let's now look at Tensors in detail."
   ]
  },
  {
   "cell_type": "markdown",
   "id": "e6880a5f",
   "metadata": {
    "papermill": {
     "duration": 0.00275,
     "end_time": "2025-09-14T22:06:58.189706",
     "exception": false,
     "start_time": "2025-09-14T22:06:58.186956",
     "status": "completed"
    },
    "tags": []
   },
   "source": [
    "Tensors are similar to NumPy's ndarrays, except that tensors can run on GPU's and other hardware accelerators. It extends the concepts of array-oriented programming library NumPy with the additional feature of accelerated computation offering seamless switch between CPU and GPU. Tensors and NumPy arrays can often share the same underlying memory, eliminating copy data. Tensors are also optimized for Automatic Differentiation which we will explore later. Tensors are mainly used to encode inputs and outputs of a model, as well as the model'parameters. \n",
    "\n",
    "Let's go ahead to explore about Tensor's - "
   ]
  },
  {
   "cell_type": "code",
   "execution_count": 2,
   "id": "f8561602",
   "metadata": {
    "execution": {
     "iopub.execute_input": "2025-09-14T22:06:58.196349Z",
     "iopub.status.busy": "2025-09-14T22:06:58.196022Z",
     "iopub.status.idle": "2025-09-14T22:07:06.043352Z",
     "shell.execute_reply": "2025-09-14T22:07:06.042773Z"
    },
    "papermill": {
     "duration": 7.852362,
     "end_time": "2025-09-14T22:07:06.044878",
     "exception": false,
     "start_time": "2025-09-14T22:06:58.192516",
     "status": "completed"
    },
    "tags": []
   },
   "outputs": [],
   "source": [
    "import torch\n",
    "import numpy as np"
   ]
  },
  {
   "cell_type": "code",
   "execution_count": 3,
   "id": "758b899e",
   "metadata": {
    "execution": {
     "iopub.execute_input": "2025-09-14T22:07:06.051409Z",
     "iopub.status.busy": "2025-09-14T22:07:06.051130Z",
     "iopub.status.idle": "2025-09-14T22:07:06.094807Z",
     "shell.execute_reply": "2025-09-14T22:07:06.094200Z"
    },
    "papermill": {
     "duration": 0.048001,
     "end_time": "2025-09-14T22:07:06.095898",
     "exception": false,
     "start_time": "2025-09-14T22:07:06.047897",
     "status": "completed"
    },
    "tags": []
   },
   "outputs": [],
   "source": [
    "# Intializing a Tensor - Using data directly\n",
    "\n",
    "data = [[1,2],[3,4]]\n",
    "x_data = torch.tensor(data)"
   ]
  },
  {
   "cell_type": "code",
   "execution_count": 4,
   "id": "b7be029e",
   "metadata": {
    "execution": {
     "iopub.execute_input": "2025-09-14T22:07:06.101868Z",
     "iopub.status.busy": "2025-09-14T22:07:06.101668Z",
     "iopub.status.idle": "2025-09-14T22:07:06.148913Z",
     "shell.execute_reply": "2025-09-14T22:07:06.148365Z"
    },
    "papermill": {
     "duration": 0.051381,
     "end_time": "2025-09-14T22:07:06.149963",
     "exception": false,
     "start_time": "2025-09-14T22:07:06.098582",
     "status": "completed"
    },
    "tags": []
   },
   "outputs": [
    {
     "data": {
      "text/plain": [
       "tensor([[1, 2],\n",
       "        [3, 4]])"
      ]
     },
     "execution_count": 4,
     "metadata": {},
     "output_type": "execute_result"
    }
   ],
   "source": [
    "x_data"
   ]
  },
  {
   "cell_type": "code",
   "execution_count": 5,
   "id": "deefef0c",
   "metadata": {
    "execution": {
     "iopub.execute_input": "2025-09-14T22:07:06.156158Z",
     "iopub.status.busy": "2025-09-14T22:07:06.155968Z",
     "iopub.status.idle": "2025-09-14T22:07:06.164640Z",
     "shell.execute_reply": "2025-09-14T22:07:06.163861Z"
    },
    "papermill": {
     "duration": 0.013039,
     "end_time": "2025-09-14T22:07:06.165750",
     "exception": false,
     "start_time": "2025-09-14T22:07:06.152711",
     "status": "completed"
    },
    "tags": []
   },
   "outputs": [
    {
     "data": {
      "text/plain": [
       "tensor([[1, 2],\n",
       "        [3, 4]])"
      ]
     },
     "execution_count": 5,
     "metadata": {},
     "output_type": "execute_result"
    }
   ],
   "source": [
    "# Intializing a Tensor - Using NumPy Array\n",
    "np_array = np.array(data)\n",
    "x_np = torch.from_numpy(np_array)\n",
    "x_np"
   ]
  },
  {
   "cell_type": "code",
   "execution_count": 6,
   "id": "63d6b3b2",
   "metadata": {
    "execution": {
     "iopub.execute_input": "2025-09-14T22:07:06.171944Z",
     "iopub.status.busy": "2025-09-14T22:07:06.171763Z",
     "iopub.status.idle": "2025-09-14T22:07:06.251828Z",
     "shell.execute_reply": "2025-09-14T22:07:06.251092Z"
    },
    "papermill": {
     "duration": 0.084338,
     "end_time": "2025-09-14T22:07:06.252919",
     "exception": false,
     "start_time": "2025-09-14T22:07:06.168581",
     "status": "completed"
    },
    "tags": []
   },
   "outputs": [
    {
     "name": "stdout",
     "output_type": "stream",
     "text": [
      "Ones Tensor: \n",
      " tensor([[1, 1],\n",
      "        [1, 1]]) \n",
      "\n",
      "Random Tensor: \n",
      " tensor([[0.0850, 0.0577],\n",
      "        [0.5549, 0.3657]]) \n",
      "\n"
     ]
    }
   ],
   "source": [
    "# Intializing a Tensor - Using another tensor\n",
    "\n",
    "x_ones = torch.ones_like(x_data) # Retains the properties of x_data like the size being 2 x 2\n",
    "\n",
    "print(f'Ones Tensor: \\n {x_ones} \\n')\n",
    "\n",
    "x_rand = torch.rand_like(x_data, dtype = torch.float)\n",
    "print(f'Random Tensor: \\n {x_rand} \\n')\n"
   ]
  },
  {
   "cell_type": "code",
   "execution_count": 7,
   "id": "d8f3f6f5",
   "metadata": {
    "execution": {
     "iopub.execute_input": "2025-09-14T22:07:06.259734Z",
     "iopub.status.busy": "2025-09-14T22:07:06.259527Z",
     "iopub.status.idle": "2025-09-14T22:07:06.270915Z",
     "shell.execute_reply": "2025-09-14T22:07:06.270231Z"
    },
    "papermill": {
     "duration": 0.015915,
     "end_time": "2025-09-14T22:07:06.271986",
     "exception": false,
     "start_time": "2025-09-14T22:07:06.256071",
     "status": "completed"
    },
    "tags": []
   },
   "outputs": [
    {
     "name": "stdout",
     "output_type": "stream",
     "text": [
      "Random Transfer: \n",
      " tensor([[0.9985, 0.5419, 0.5461, 0.5122, 0.0614, 0.9933, 0.4674],\n",
      "        [0.8258, 0.7042, 0.3407, 0.8222, 0.8005, 0.6865, 0.9770],\n",
      "        [0.7691, 0.6607, 0.2300, 0.3265, 0.2822, 0.7063, 0.4871]]) \n",
      "\n",
      "Only ones Transfer: \n",
      " tensor([[1., 1., 1., 1., 1., 1., 1.],\n",
      "        [1., 1., 1., 1., 1., 1., 1.],\n",
      "        [1., 1., 1., 1., 1., 1., 1.]]) \n",
      "\n",
      "Only Zeros Transfer: \n",
      " tensor([[0., 0., 0., 0., 0., 0., 0.],\n",
      "        [0., 0., 0., 0., 0., 0., 0.],\n",
      "        [0., 0., 0., 0., 0., 0., 0.]]) \n",
      "\n"
     ]
    }
   ],
   "source": [
    "shape = (3,7,) # Tuple of tensor dimensions\n",
    "rand_tensor = torch.rand(shape)\n",
    "ones_tensor = torch.ones(shape)\n",
    "zeros_tensor = torch.zeros(shape)\n",
    "\n",
    "print(f'Random Transfer: \\n {rand_tensor} \\n')\n",
    "print(f'Only ones Transfer: \\n {ones_tensor} \\n')\n",
    "print(f'Only Zeros Transfer: \\n {zeros_tensor} \\n')"
   ]
  },
  {
   "cell_type": "markdown",
   "id": "b4354654",
   "metadata": {
    "papermill": {
     "duration": 0.003026,
     "end_time": "2025-09-14T22:07:06.278131",
     "exception": false,
     "start_time": "2025-09-14T22:07:06.275105",
     "status": "completed"
    },
    "tags": []
   },
   "source": [
    "Attributes of a Tensor\n",
    "\n",
    "Tensor attributes describe their shape, datatype, and the device one which they are stored."
   ]
  },
  {
   "cell_type": "code",
   "execution_count": 8,
   "id": "ed2e9476",
   "metadata": {
    "execution": {
     "iopub.execute_input": "2025-09-14T22:07:06.286182Z",
     "iopub.status.busy": "2025-09-14T22:07:06.285998Z",
     "iopub.status.idle": "2025-09-14T22:07:06.290646Z",
     "shell.execute_reply": "2025-09-14T22:07:06.289878Z"
    },
    "papermill": {
     "duration": 0.00969,
     "end_time": "2025-09-14T22:07:06.291808",
     "exception": false,
     "start_time": "2025-09-14T22:07:06.282118",
     "status": "completed"
    },
    "tags": []
   },
   "outputs": [
    {
     "name": "stdout",
     "output_type": "stream",
     "text": [
      "Tensor shape: torch.Size([2, 5]) \n",
      "\n",
      "Tensor datatype: torch.float32 \n",
      "\n",
      "Device Tensor is stored on: cpu \n",
      "\n"
     ]
    }
   ],
   "source": [
    "tensor = torch.rand(2,5)\n",
    "print(f'Tensor shape: {tensor.shape} \\n')\n",
    "print(f'Tensor datatype: {tensor.dtype} \\n')\n",
    "print(f'Device Tensor is stored on: {tensor.device} \\n')"
   ]
  },
  {
   "cell_type": "markdown",
   "id": "6cecc457",
   "metadata": {
    "papermill": {
     "duration": 0.0028,
     "end_time": "2025-09-14T22:07:06.297799",
     "exception": false,
     "start_time": "2025-09-14T22:07:06.294999",
     "status": "completed"
    },
    "tags": []
   },
   "source": [
    "**Operations on Tensors**\n",
    "\n",
    "There are over 1200 operations including arithmetic, linear algebra, matrix multiplication (transposing, indexing, slicing), sampling and more.\n",
    "\n",
    "By default tensors created on CPU. We need to explicitely move the tensors to the accelerator using .to method (after checking for it's availabilty). Copying tensors across devided can be expensive in terms of time and memory. Why? Let's find out."
   ]
  },
  {
   "cell_type": "code",
   "execution_count": 9,
   "id": "65c007ae",
   "metadata": {
    "execution": {
     "iopub.execute_input": "2025-09-14T22:07:06.304910Z",
     "iopub.status.busy": "2025-09-14T22:07:06.304403Z",
     "iopub.status.idle": "2025-09-14T22:07:06.601271Z",
     "shell.execute_reply": "2025-09-14T22:07:06.600420Z"
    },
    "papermill": {
     "duration": 0.301293,
     "end_time": "2025-09-14T22:07:06.602379",
     "exception": false,
     "start_time": "2025-09-14T22:07:06.301086",
     "status": "completed"
    },
    "tags": []
   },
   "outputs": [
    {
     "name": "stdout",
     "output_type": "stream",
     "text": [
      "cuda:0\n"
     ]
    }
   ],
   "source": [
    "# Move tensor to the current accelerator if available\n",
    "if torch.accelerator.is_available():\n",
    "    tensor = tensor.to(torch.accelerator.current_accelerator())\n",
    "    print(tensor.device)"
   ]
  },
  {
   "cell_type": "code",
   "execution_count": 10,
   "id": "eaff5f42",
   "metadata": {
    "execution": {
     "iopub.execute_input": "2025-09-14T22:07:06.609365Z",
     "iopub.status.busy": "2025-09-14T22:07:06.609156Z",
     "iopub.status.idle": "2025-09-14T22:07:06.627213Z",
     "shell.execute_reply": "2025-09-14T22:07:06.626436Z"
    },
    "papermill": {
     "duration": 0.022569,
     "end_time": "2025-09-14T22:07:06.628289",
     "exception": false,
     "start_time": "2025-09-14T22:07:06.605720",
     "status": "completed"
    },
    "tags": []
   },
   "outputs": [
    {
     "name": "stdout",
     "output_type": "stream",
     "text": [
      "First Row: tensor([1, 2]) \n",
      "\n",
      "First Column: tensor([1, 3, 5]) \n",
      "\n",
      "Last Column: tensor([2, 4, 6]) \n",
      "\n",
      "tensor([[1, 0],\n",
      "        [3, 0],\n",
      "        [5, 0]])\n"
     ]
    }
   ],
   "source": [
    "# Standard numpy like indexing and slicing\n",
    "tensor = torch.tensor([[1,2],[3,4],[5,6]])\n",
    "print(f'First Row: {tensor[0]} \\n')\n",
    "print(f'First Column: {tensor[:, 0]} \\n')\n",
    "print(f'Last Column: {tensor[...,-1]} \\n')\n",
    "tensor[:,1] = 0\n",
    "print(tensor)"
   ]
  },
  {
   "cell_type": "code",
   "execution_count": 11,
   "id": "8b6cfb84",
   "metadata": {
    "execution": {
     "iopub.execute_input": "2025-09-14T22:07:06.635405Z",
     "iopub.status.busy": "2025-09-14T22:07:06.634921Z",
     "iopub.status.idle": "2025-09-14T22:07:06.650341Z",
     "shell.execute_reply": "2025-09-14T22:07:06.649612Z"
    },
    "papermill": {
     "duration": 0.02026,
     "end_time": "2025-09-14T22:07:06.651490",
     "exception": false,
     "start_time": "2025-09-14T22:07:06.631230",
     "status": "completed"
    },
    "tags": []
   },
   "outputs": [
    {
     "name": "stdout",
     "output_type": "stream",
     "text": [
      "tensor([[1, 0, 1, 0],\n",
      "        [3, 0, 3, 0],\n",
      "        [5, 0, 5, 0]])\n",
      "tensor([[[1, 0],\n",
      "         [3, 0],\n",
      "         [5, 0]],\n",
      "\n",
      "        [[1, 0],\n",
      "         [3, 0],\n",
      "         [5, 0]]])\n"
     ]
    }
   ],
   "source": [
    "# Joining tensors to concatenate a sequence of tensors along a given dimension.\n",
    "t1 = torch.cat([tensor,tensor],dim=1)\n",
    "print(t1)\n",
    "\n",
    "t2 = torch.stack((tensor,tensor))\n",
    "print(t2)"
   ]
  },
  {
   "cell_type": "code",
   "execution_count": 12,
   "id": "7b6e684d",
   "metadata": {
    "execution": {
     "iopub.execute_input": "2025-09-14T22:07:06.658825Z",
     "iopub.status.busy": "2025-09-14T22:07:06.658281Z",
     "iopub.status.idle": "2025-09-14T22:07:06.681366Z",
     "shell.execute_reply": "2025-09-14T22:07:06.680489Z"
    },
    "papermill": {
     "duration": 0.027734,
     "end_time": "2025-09-14T22:07:06.682421",
     "exception": false,
     "start_time": "2025-09-14T22:07:06.654687",
     "status": "completed"
    },
    "tags": []
   },
   "outputs": [
    {
     "name": "stdout",
     "output_type": "stream",
     "text": [
      "tensor([[1, 3, 5],\n",
      "        [0, 0, 0]])\n",
      "tensor([[ 1,  3,  5],\n",
      "        [ 3,  9, 15],\n",
      "        [ 5, 15, 25]])\n",
      "z1: tensor([[ 1,  0],\n",
      "        [ 9,  0],\n",
      "        [25,  0]])\n",
      "\n",
      "z2: tensor([[ 1,  0],\n",
      "        [ 9,  0],\n",
      "        [25,  0]])\n",
      "\n"
     ]
    }
   ],
   "source": [
    "y1 = tensor.T # Transpose operation\n",
    "print(y1)\n",
    "\n",
    "y2 = tensor.matmul(tensor.T)\n",
    "print(y2)\n",
    "\n",
    "z1 = tensor * tensor\n",
    "z2 = tensor.mul(tensor)\n",
    "\n",
    "print(f'z1: {z1}\\n')\n",
    "print(f'z2: {z2}\\n')"
   ]
  },
  {
   "cell_type": "code",
   "execution_count": 13,
   "id": "f2bb87c4",
   "metadata": {
    "execution": {
     "iopub.execute_input": "2025-09-14T22:07:06.689524Z",
     "iopub.status.busy": "2025-09-14T22:07:06.689109Z",
     "iopub.status.idle": "2025-09-14T22:07:06.693108Z",
     "shell.execute_reply": "2025-09-14T22:07:06.692593Z"
    },
    "papermill": {
     "duration": 0.008409,
     "end_time": "2025-09-14T22:07:06.694104",
     "exception": false,
     "start_time": "2025-09-14T22:07:06.685695",
     "status": "completed"
    },
    "tags": []
   },
   "outputs": [
    {
     "name": "stdout",
     "output_type": "stream",
     "text": [
      "tensor(9)\n",
      "9 <class 'int'>\n"
     ]
    }
   ],
   "source": [
    "agg = tensor.sum()\n",
    "print(agg)\n",
    "agg_item = agg.item()\n",
    "print(agg_item, type(agg_item))"
   ]
  },
  {
   "cell_type": "code",
   "execution_count": 14,
   "id": "2e89f2bd",
   "metadata": {
    "execution": {
     "iopub.execute_input": "2025-09-14T22:07:06.701252Z",
     "iopub.status.busy": "2025-09-14T22:07:06.700874Z",
     "iopub.status.idle": "2025-09-14T22:07:06.708139Z",
     "shell.execute_reply": "2025-09-14T22:07:06.707406Z"
    },
    "papermill": {
     "duration": 0.012043,
     "end_time": "2025-09-14T22:07:06.709361",
     "exception": false,
     "start_time": "2025-09-14T22:07:06.697318",
     "status": "completed"
    },
    "tags": []
   },
   "outputs": [
    {
     "name": "stdout",
     "output_type": "stream",
     "text": [
      "tensor([[ 6,  5],\n",
      "        [ 8,  5],\n",
      "        [10,  5]])\n"
     ]
    }
   ],
   "source": [
    "# In-place operations\n",
    "tensor.add_(5)\n",
    "print(tensor)\n",
    "\n",
    "# In-place operations can save some memory, but can be problematic becuse of an immediate loss of history.\n",
    "# Hence, their use is discouraged."
   ]
  },
  {
   "cell_type": "code",
   "execution_count": null,
   "id": "1931bead",
   "metadata": {
    "papermill": {
     "duration": 0.003206,
     "end_time": "2025-09-14T22:07:06.715803",
     "exception": false,
     "start_time": "2025-09-14T22:07:06.712597",
     "status": "completed"
    },
    "tags": []
   },
   "outputs": [],
   "source": []
  }
 ],
 "metadata": {
  "kaggle": {
   "accelerator": "nvidiaTeslaT4",
   "dataSources": [],
   "dockerImageVersionId": 31089,
   "isGpuEnabled": true,
   "isInternetEnabled": true,
   "language": "python",
   "sourceType": "notebook"
  },
  "kernelspec": {
   "display_name": "Python 3",
   "language": "python",
   "name": "python3"
  },
  "language_info": {
   "codemirror_mode": {
    "name": "ipython",
    "version": 3
   },
   "file_extension": ".py",
   "mimetype": "text/x-python",
   "name": "python",
   "nbconvert_exporter": "python",
   "pygments_lexer": "ipython3",
   "version": "3.11.13"
  },
  "papermill": {
   "default_parameters": {},
   "duration": 19.251821,
   "end_time": "2025-09-14T22:07:09.058187",
   "environment_variables": {},
   "exception": null,
   "input_path": "__notebook__.ipynb",
   "output_path": "__notebook__.ipynb",
   "parameters": {},
   "start_time": "2025-09-14T22:06:49.806366",
   "version": "2.6.0"
  }
 },
 "nbformat": 4,
 "nbformat_minor": 5
}
